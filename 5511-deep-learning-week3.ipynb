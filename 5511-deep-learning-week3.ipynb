{
 "cells": [
  {
   "cell_type": "markdown",
   "id": "8c8660d3",
   "metadata": {
    "papermill": {
     "duration": 0.001417,
     "end_time": "2024-11-24T03:39:30.357269",
     "exception": false,
     "start_time": "2024-11-24T03:39:30.355852",
     "status": "completed"
    },
    "tags": []
   },
   "source": [
    "General information\n",
    "This mini-project is part of the Week 3 assignment for the University of Colorado Boulder’s Data Science Deep Learning course."
   ]
  }
 ],
 "metadata": {
  "kaggle": {
   "accelerator": "nvidiaTeslaT4",
   "dataSources": [
    {
     "databundleVersionId": 862157,
     "sourceId": 11848,
     "sourceType": "competition"
    },
    {
     "sourceId": 209076057,
     "sourceType": "kernelVersion"
    }
   ],
   "dockerImageVersionId": 30787,
   "isGpuEnabled": true,
   "isInternetEnabled": true,
   "language": "python",
   "sourceType": "notebook"
  },
  "kernelspec": {
   "display_name": "Python 3",
   "language": "python",
   "name": "python3"
  },
  "language_info": {
   "codemirror_mode": {
    "name": "ipython",
    "version": 3
   },
   "file_extension": ".py",
   "mimetype": "text/x-python",
   "name": "python",
   "nbconvert_exporter": "python",
   "pygments_lexer": "ipython3",
   "version": "3.10.14"
  },
  "papermill": {
   "default_parameters": {},
   "duration": 2.987521,
   "end_time": "2024-11-24T03:39:30.575255",
   "environment_variables": {},
   "exception": null,
   "input_path": "__notebook__.ipynb",
   "output_path": "__notebook__.ipynb",
   "parameters": {},
   "start_time": "2024-11-24T03:39:27.587734",
   "version": "2.6.0"
  }
 },
 "nbformat": 4,
 "nbformat_minor": 5
}
